{
 "cells": [
  {
   "cell_type": "code",
   "execution_count": null,
   "metadata": {
    "collapsed": true
   },
   "outputs": [],
   "source": [
    "#imports\n",
    "import csv\n",
    "import sys\n",
    "from scipy import polyval, polyfit, sqrt\n",
    "from pylab import plot, title, xlabel, ylabel, show, ylim, xlim\n",
    "import numpy as np\n",
    "from scipy.interpolate import spline"
   ]
  },
  {
   "cell_type": "code",
   "execution_count": null,
   "metadata": {
    "collapsed": true
   },
   "outputs": [],
   "source": [
    "#test if call was correct\n",
    "if len(sys.argv) >= 4 :\n",
    "    print(\"Usage: regression (-h) (filename.csv) (1=<order=<10)\\n-h: \\t\\tdisplay this help text\\norder:\\t\\torder of polynomial to be fit\\nfilename.csv:\\txname,yname\\n             \\txunit,yunit\\n             \\tpoint1x,point1y\\n             \\tpoint2x,point2y\\n             \\t.......,.......\")\n",
    "    sys.exit()"
   ]
  },
  {
   "cell_type": "code",
   "execution_count": null,
   "metadata": {
    "collapsed": true
   },
   "outputs": [],
   "source": [
    "#test if in help mode\n",
    "if len(sys.argv) == 2 :\n",
    "    if sys.argv[1] == '-h':\n",
    "        print(\"Usage: regression (-h) (filename.csv) (1=<order=<10)\\n-h: \\t\\tdisplay this help text\\norder:\\t\\torder of polynomial to be fit\\nfilename.csv:\\txname,yname\\n             \\txunit,yunit\\n             \\tpoint1x,point1y\\n             \\tpoint2x,point2y\\n             \\t.......,.......\")\n",
    "        sys.exit()"
   ]
  },
  {
   "cell_type": "code",
   "execution_count": null,
   "metadata": {
    "collapsed": true
   },
   "outputs": [],
   "source": [
    "#input file declaration\n",
    "if len(sys.argv) == 2 or len(sys.argv) == 3:\n",
    "    if sys.argv[1] != '-h':\n",
    "        filenamevar = sys.argv[1]\n",
    "else :\n",
    "    filenamevar = raw_input(\"Enter the .csv file name to read the data from:\\t\")"
   ]
  },
  {
   "cell_type": "code",
   "execution_count": null,
   "metadata": {
    "collapsed": true
   },
   "outputs": [],
   "source": [
    "#open file\n",
    "with open(filenamevar, 'rb') as f:\n",
    "    reader = csv.reader(f)   \n",
    "    data = list(reader)"
   ]
  },
  {
   "cell_type": "code",
   "execution_count": null,
   "metadata": {
    "collapsed": false
   },
   "outputs": [],
   "source": [
    "#algorithm to detect if at any point there are more than 2 columns in the file \n",
    "count = 0\n",
    "for i in range(0, len(data)):\n",
    "    if len(data[i])==2:\n",
    "        count = count + 1\n",
    "if (count != len(data)) :\n",
    "    print(\"More than 2 columns somewhere\\n\")\n",
    "    sys.exit()\n",
    "elif (count == len(data)):\n",
    "    count = count - 2\n",
    "    print(str(count) + \" data points read\\n\")"
   ]
  },
  {
   "cell_type": "code",
   "execution_count": null,
   "metadata": {
    "collapsed": true
   },
   "outputs": [],
   "source": [
    "#extract axis titles   \n",
    "datanew = data[0]\n",
    "xname = datanew[0]\n",
    "yname = datanew[1]\n",
    "del data[0]"
   ]
  },
  {
   "cell_type": "code",
   "execution_count": null,
   "metadata": {
    "collapsed": true
   },
   "outputs": [],
   "source": [
    "#extract axis units\n",
    "datanew = data[0]\n",
    "xunit = datanew[0]\n",
    "yunit = datanew[1]\n",
    "del data[0]"
   ]
  },
  {
   "cell_type": "code",
   "execution_count": null,
   "metadata": {
    "collapsed": true
   },
   "outputs": [],
   "source": [
    "#create two lsts, one with each axis data\n",
    "x = []\n",
    "y = [] \n",
    "for i in range(0, len(data)):\n",
    "    dataobj = data[i]\n",
    "    x.append(float(dataobj[0]))\n",
    "    y.append(float(dataobj[1]))"
   ]
  },
  {
   "cell_type": "code",
   "execution_count": null,
   "metadata": {
    "collapsed": false
   },
   "outputs": [],
   "source": [
    "#define order of polynomial\n",
    "if len(sys.argv) == 3:\n",
    "    orderf = float(sys.argv[2])\n",
    "    order = int(orderf)\n",
    "    if order < 1 or order > 10 :\n",
    "        print(\"Polynomial order not correctly defined, switching to manual:\")\n",
    "        while True:\n",
    "            order = input(\"Enter the order of polynomial you wish to fit (between 1 and 10):  \")\n",
    "            if (order >= 1) & (order <= 10):\n",
    "                break\n",
    "else :\n",
    "    while True:\n",
    "        order = input(\"Enter the order of polynomial you wish to fit (between 1 and 10):  \")\n",
    "        if (order >= 1) & (order <= 10):\n",
    "            break"
   ]
  },
  {
   "cell_type": "code",
   "execution_count": null,
   "metadata": {
    "collapsed": false
   },
   "outputs": [],
   "source": [
    "#calculations\n",
    "z = np.polyfit(x, y, order)\n",
    "p = np.poly1d(z)\n",
    "print(\"Equation: y = \\n %s\" %p)\n",
    "yr = p(x)\n",
    "err = sqrt(sum((yr-y)**2)/len(y))\n",
    "print(\"Standard Deviation = %f\" %err)\n",
    "print(\"Approximate roots: %s\" %p.r)"
   ]
  },
  {
   "cell_type": "code",
   "execution_count": null,
   "metadata": {
    "collapsed": true
   },
   "outputs": [],
   "source": [
    "#graphing\n",
    "xnew = np.linspace(min(x),max(x),300)\n",
    "power_smooth = spline(x,yr,xnew)\n",
    "title(yname + \" - \" + xname)\n",
    "plot(x,y,'g.')\n",
    "plot(xnew,power_smooth,'r-')\n",
    "if xunit == None:\n",
    "    xlabel(xname)\n",
    "else:\n",
    "    xlabel(xname + \" (\" + xunit + \")\")\n",
    "if yunit == None:\n",
    "    ylabel(yname)\n",
    "else:\n",
    "    ylabel(yname + \" (\" + yunit + \")\")\n",
    "ylim([min([min(y),min(power_smooth)])-((max([max(y),max(power_smooth)])- min([min(y),min(power_smooth)]))/10),max([max(y),max(power_smooth)])+((max([max(y),max(power_smooth)])- min([min(y),min(power_smooth)]))/10)])\n",
    "xlim([min(x)-((max(x)-min(x))/10),max(x)+((max(x)-min(x))/10)])\n",
    "show()"
   ]
  }
 ],
 "metadata": {
  "kernelspec": {
   "display_name": "Python 2",
   "language": "python",
   "name": "python2"
  },
  "language_info": {
   "codemirror_mode": {
    "name": "ipython",
    "version": 2
   },
   "file_extension": ".py",
   "mimetype": "text/x-python",
   "name": "python",
   "nbconvert_exporter": "python",
   "pygments_lexer": "ipython2",
   "version": "2.7.11"
  }
 },
 "nbformat": 4,
 "nbformat_minor": 1
}
